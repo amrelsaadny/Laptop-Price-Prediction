{
 "cells": [
  {
   "cell_type": "code",
   "execution_count": 1,
   "id": "0832c35f",
   "metadata": {},
   "outputs": [],
   "source": [
    "import numpy as np\n",
    "import pandas as pd\n",
    "import matplotlib.pyplot as plt\n",
    "import seaborn as sns "
   ]
  },
  {
   "cell_type": "code",
   "execution_count": 2,
   "id": "fec5b5c7",
   "metadata": {},
   "outputs": [],
   "source": [
    "df=pd.read_csv(\"laptop_data_cleaned.csv\")"
   ]
  },
  {
   "cell_type": "code",
   "execution_count": 3,
   "id": "61f71271",
   "metadata": {},
   "outputs": [
    {
     "data": {
      "text/html": [
       "<div>\n",
       "<style scoped>\n",
       "    .dataframe tbody tr th:only-of-type {\n",
       "        vertical-align: middle;\n",
       "    }\n",
       "\n",
       "    .dataframe tbody tr th {\n",
       "        vertical-align: top;\n",
       "    }\n",
       "\n",
       "    .dataframe thead th {\n",
       "        text-align: right;\n",
       "    }\n",
       "</style>\n",
       "<table border=\"1\" class=\"dataframe\">\n",
       "  <thead>\n",
       "    <tr style=\"text-align: right;\">\n",
       "      <th></th>\n",
       "      <th>Company</th>\n",
       "      <th>TypeName</th>\n",
       "      <th>Ram</th>\n",
       "      <th>Weight</th>\n",
       "      <th>Price</th>\n",
       "      <th>TouchScreen</th>\n",
       "      <th>Ips</th>\n",
       "      <th>Ppi</th>\n",
       "      <th>Cpu_brand</th>\n",
       "      <th>HDD</th>\n",
       "      <th>SSD</th>\n",
       "      <th>Gpu_brand</th>\n",
       "      <th>Os</th>\n",
       "    </tr>\n",
       "  </thead>\n",
       "  <tbody>\n",
       "    <tr>\n",
       "      <th>0</th>\n",
       "      <td>Apple</td>\n",
       "      <td>Ultrabook</td>\n",
       "      <td>8</td>\n",
       "      <td>1.37</td>\n",
       "      <td>11.175755</td>\n",
       "      <td>0</td>\n",
       "      <td>1</td>\n",
       "      <td>226.983005</td>\n",
       "      <td>Intel Core i5</td>\n",
       "      <td>0</td>\n",
       "      <td>128</td>\n",
       "      <td>Intel</td>\n",
       "      <td>Mac</td>\n",
       "    </tr>\n",
       "    <tr>\n",
       "      <th>1</th>\n",
       "      <td>Apple</td>\n",
       "      <td>Ultrabook</td>\n",
       "      <td>8</td>\n",
       "      <td>1.34</td>\n",
       "      <td>10.776777</td>\n",
       "      <td>0</td>\n",
       "      <td>0</td>\n",
       "      <td>127.677940</td>\n",
       "      <td>Intel Core i5</td>\n",
       "      <td>0</td>\n",
       "      <td>0</td>\n",
       "      <td>Intel</td>\n",
       "      <td>Mac</td>\n",
       "    </tr>\n",
       "    <tr>\n",
       "      <th>2</th>\n",
       "      <td>HP</td>\n",
       "      <td>Notebook</td>\n",
       "      <td>8</td>\n",
       "      <td>1.86</td>\n",
       "      <td>10.329931</td>\n",
       "      <td>0</td>\n",
       "      <td>0</td>\n",
       "      <td>141.211998</td>\n",
       "      <td>Intel Core i5</td>\n",
       "      <td>0</td>\n",
       "      <td>256</td>\n",
       "      <td>Intel</td>\n",
       "      <td>Others</td>\n",
       "    </tr>\n",
       "    <tr>\n",
       "      <th>3</th>\n",
       "      <td>Apple</td>\n",
       "      <td>Ultrabook</td>\n",
       "      <td>16</td>\n",
       "      <td>1.83</td>\n",
       "      <td>11.814476</td>\n",
       "      <td>0</td>\n",
       "      <td>1</td>\n",
       "      <td>220.534624</td>\n",
       "      <td>Intel Core i7</td>\n",
       "      <td>0</td>\n",
       "      <td>512</td>\n",
       "      <td>AMD</td>\n",
       "      <td>Mac</td>\n",
       "    </tr>\n",
       "    <tr>\n",
       "      <th>4</th>\n",
       "      <td>Apple</td>\n",
       "      <td>Ultrabook</td>\n",
       "      <td>8</td>\n",
       "      <td>1.37</td>\n",
       "      <td>11.473101</td>\n",
       "      <td>0</td>\n",
       "      <td>1</td>\n",
       "      <td>226.983005</td>\n",
       "      <td>Intel Core i5</td>\n",
       "      <td>0</td>\n",
       "      <td>256</td>\n",
       "      <td>Intel</td>\n",
       "      <td>Mac</td>\n",
       "    </tr>\n",
       "    <tr>\n",
       "      <th>...</th>\n",
       "      <td>...</td>\n",
       "      <td>...</td>\n",
       "      <td>...</td>\n",
       "      <td>...</td>\n",
       "      <td>...</td>\n",
       "      <td>...</td>\n",
       "      <td>...</td>\n",
       "      <td>...</td>\n",
       "      <td>...</td>\n",
       "      <td>...</td>\n",
       "      <td>...</td>\n",
       "      <td>...</td>\n",
       "      <td>...</td>\n",
       "    </tr>\n",
       "    <tr>\n",
       "      <th>1268</th>\n",
       "      <td>Asus</td>\n",
       "      <td>Notebook</td>\n",
       "      <td>4</td>\n",
       "      <td>2.20</td>\n",
       "      <td>10.555257</td>\n",
       "      <td>0</td>\n",
       "      <td>0</td>\n",
       "      <td>100.454670</td>\n",
       "      <td>Intel Core i7</td>\n",
       "      <td>500</td>\n",
       "      <td>0</td>\n",
       "      <td>Nvidia</td>\n",
       "      <td>Windows</td>\n",
       "    </tr>\n",
       "    <tr>\n",
       "      <th>1269</th>\n",
       "      <td>Lenovo</td>\n",
       "      <td>2 in 1 Convertible</td>\n",
       "      <td>4</td>\n",
       "      <td>1.80</td>\n",
       "      <td>10.433899</td>\n",
       "      <td>1</td>\n",
       "      <td>1</td>\n",
       "      <td>157.350512</td>\n",
       "      <td>Intel Core i7</td>\n",
       "      <td>0</td>\n",
       "      <td>128</td>\n",
       "      <td>Intel</td>\n",
       "      <td>Windows</td>\n",
       "    </tr>\n",
       "    <tr>\n",
       "      <th>1270</th>\n",
       "      <td>Lenovo</td>\n",
       "      <td>2 in 1 Convertible</td>\n",
       "      <td>16</td>\n",
       "      <td>1.30</td>\n",
       "      <td>11.288115</td>\n",
       "      <td>1</td>\n",
       "      <td>1</td>\n",
       "      <td>276.053530</td>\n",
       "      <td>Intel Core i7</td>\n",
       "      <td>0</td>\n",
       "      <td>512</td>\n",
       "      <td>Intel</td>\n",
       "      <td>Windows</td>\n",
       "    </tr>\n",
       "    <tr>\n",
       "      <th>1271</th>\n",
       "      <td>Lenovo</td>\n",
       "      <td>Notebook</td>\n",
       "      <td>2</td>\n",
       "      <td>1.50</td>\n",
       "      <td>9.409283</td>\n",
       "      <td>0</td>\n",
       "      <td>0</td>\n",
       "      <td>111.935204</td>\n",
       "      <td>Other Intel Processor</td>\n",
       "      <td>0</td>\n",
       "      <td>0</td>\n",
       "      <td>Intel</td>\n",
       "      <td>Windows</td>\n",
       "    </tr>\n",
       "    <tr>\n",
       "      <th>1272</th>\n",
       "      <td>HP</td>\n",
       "      <td>Notebook</td>\n",
       "      <td>6</td>\n",
       "      <td>2.19</td>\n",
       "      <td>10.614129</td>\n",
       "      <td>0</td>\n",
       "      <td>0</td>\n",
       "      <td>100.454670</td>\n",
       "      <td>Intel Core i7</td>\n",
       "      <td>1000</td>\n",
       "      <td>0</td>\n",
       "      <td>AMD</td>\n",
       "      <td>Windows</td>\n",
       "    </tr>\n",
       "  </tbody>\n",
       "</table>\n",
       "<p>1273 rows × 13 columns</p>\n",
       "</div>"
      ],
      "text/plain": [
       "     Company            TypeName  Ram  Weight      Price  TouchScreen  Ips  \\\n",
       "0      Apple           Ultrabook    8    1.37  11.175755            0    1   \n",
       "1      Apple           Ultrabook    8    1.34  10.776777            0    0   \n",
       "2         HP            Notebook    8    1.86  10.329931            0    0   \n",
       "3      Apple           Ultrabook   16    1.83  11.814476            0    1   \n",
       "4      Apple           Ultrabook    8    1.37  11.473101            0    1   \n",
       "...      ...                 ...  ...     ...        ...          ...  ...   \n",
       "1268    Asus            Notebook    4    2.20  10.555257            0    0   \n",
       "1269  Lenovo  2 in 1 Convertible    4    1.80  10.433899            1    1   \n",
       "1270  Lenovo  2 in 1 Convertible   16    1.30  11.288115            1    1   \n",
       "1271  Lenovo            Notebook    2    1.50   9.409283            0    0   \n",
       "1272      HP            Notebook    6    2.19  10.614129            0    0   \n",
       "\n",
       "             Ppi              Cpu_brand   HDD  SSD Gpu_brand       Os  \n",
       "0     226.983005          Intel Core i5     0  128     Intel      Mac  \n",
       "1     127.677940          Intel Core i5     0    0     Intel      Mac  \n",
       "2     141.211998          Intel Core i5     0  256     Intel   Others  \n",
       "3     220.534624          Intel Core i7     0  512       AMD      Mac  \n",
       "4     226.983005          Intel Core i5     0  256     Intel      Mac  \n",
       "...          ...                    ...   ...  ...       ...      ...  \n",
       "1268  100.454670          Intel Core i7   500    0    Nvidia  Windows  \n",
       "1269  157.350512          Intel Core i7     0  128     Intel  Windows  \n",
       "1270  276.053530          Intel Core i7     0  512     Intel  Windows  \n",
       "1271  111.935204  Other Intel Processor     0    0     Intel  Windows  \n",
       "1272  100.454670          Intel Core i7  1000    0       AMD  Windows  \n",
       "\n",
       "[1273 rows x 13 columns]"
      ]
     },
     "execution_count": 3,
     "metadata": {},
     "output_type": "execute_result"
    }
   ],
   "source": [
    "df"
   ]
  },
  {
   "cell_type": "code",
   "execution_count": 4,
   "id": "8f551a2a",
   "metadata": {},
   "outputs": [
    {
     "data": {
      "text/plain": [
       "(1273, 13)"
      ]
     },
     "execution_count": 4,
     "metadata": {},
     "output_type": "execute_result"
    }
   ],
   "source": [
    "df.shape"
   ]
  },
  {
   "cell_type": "code",
   "execution_count": 5,
   "id": "03f585bc",
   "metadata": {},
   "outputs": [
    {
     "data": {
      "text/plain": [
       "Index(['Company', 'TypeName', 'Ram', 'Weight', 'Price', 'TouchScreen', 'Ips',\n",
       "       'Ppi', 'Cpu_brand', 'HDD', 'SSD', 'Gpu_brand', 'Os'],\n",
       "      dtype='object')"
      ]
     },
     "execution_count": 5,
     "metadata": {},
     "output_type": "execute_result"
    }
   ],
   "source": [
    "df.columns"
   ]
  },
  {
   "cell_type": "code",
   "execution_count": 6,
   "id": "696236c9",
   "metadata": {},
   "outputs": [
    {
     "data": {
      "text/plain": [
       "1"
      ]
     },
     "execution_count": 6,
     "metadata": {},
     "output_type": "execute_result"
    }
   ],
   "source": [
    "df.duplicated().sum()"
   ]
  },
  {
   "cell_type": "code",
   "execution_count": 7,
   "id": "3088942d",
   "metadata": {},
   "outputs": [],
   "source": [
    "df.drop_duplicates(inplace=True)"
   ]
  },
  {
   "cell_type": "code",
   "execution_count": 9,
   "id": "1a718280",
   "metadata": {},
   "outputs": [
    {
     "name": "stdout",
     "output_type": "stream",
     "text": [
      "<class 'pandas.core.frame.DataFrame'>\n",
      "Int64Index: 1272 entries, 0 to 1272\n",
      "Data columns (total 13 columns):\n",
      " #   Column       Non-Null Count  Dtype  \n",
      "---  ------       --------------  -----  \n",
      " 0   Company      1272 non-null   object \n",
      " 1   TypeName     1272 non-null   object \n",
      " 2   Ram          1272 non-null   int64  \n",
      " 3   Weight       1272 non-null   float64\n",
      " 4   Price        1272 non-null   float64\n",
      " 5   TouchScreen  1272 non-null   int64  \n",
      " 6   Ips          1272 non-null   int64  \n",
      " 7   Ppi          1272 non-null   float64\n",
      " 8   Cpu_brand    1272 non-null   object \n",
      " 9   HDD          1272 non-null   int64  \n",
      " 10  SSD          1272 non-null   int64  \n",
      " 11  Gpu_brand    1272 non-null   object \n",
      " 12  Os           1272 non-null   object \n",
      "dtypes: float64(3), int64(5), object(5)\n",
      "memory usage: 139.1+ KB\n"
     ]
    }
   ],
   "source": [
    "df.info()"
   ]
  },
  {
   "cell_type": "code",
   "execution_count": 10,
   "id": "5e04eea6",
   "metadata": {},
   "outputs": [
    {
     "data": {
      "text/html": [
       "<div>\n",
       "<style scoped>\n",
       "    .dataframe tbody tr th:only-of-type {\n",
       "        vertical-align: middle;\n",
       "    }\n",
       "\n",
       "    .dataframe tbody tr th {\n",
       "        vertical-align: top;\n",
       "    }\n",
       "\n",
       "    .dataframe thead th {\n",
       "        text-align: right;\n",
       "    }\n",
       "</style>\n",
       "<table border=\"1\" class=\"dataframe\">\n",
       "  <thead>\n",
       "    <tr style=\"text-align: right;\">\n",
       "      <th></th>\n",
       "      <th>Ram</th>\n",
       "      <th>Weight</th>\n",
       "      <th>Price</th>\n",
       "      <th>TouchScreen</th>\n",
       "      <th>Ips</th>\n",
       "      <th>Ppi</th>\n",
       "      <th>HDD</th>\n",
       "      <th>SSD</th>\n",
       "    </tr>\n",
       "  </thead>\n",
       "  <tbody>\n",
       "    <tr>\n",
       "      <th>count</th>\n",
       "      <td>1272.0</td>\n",
       "      <td>1272.0</td>\n",
       "      <td>1272.0</td>\n",
       "      <td>1272.0</td>\n",
       "      <td>1272.0</td>\n",
       "      <td>1272.0</td>\n",
       "      <td>1272.0</td>\n",
       "      <td>1272.0</td>\n",
       "    </tr>\n",
       "    <tr>\n",
       "      <th>mean</th>\n",
       "      <td>8.0</td>\n",
       "      <td>2.0</td>\n",
       "      <td>11.0</td>\n",
       "      <td>0.0</td>\n",
       "      <td>0.0</td>\n",
       "      <td>147.0</td>\n",
       "      <td>414.0</td>\n",
       "      <td>186.0</td>\n",
       "    </tr>\n",
       "    <tr>\n",
       "      <th>std</th>\n",
       "      <td>5.0</td>\n",
       "      <td>1.0</td>\n",
       "      <td>1.0</td>\n",
       "      <td>0.0</td>\n",
       "      <td>0.0</td>\n",
       "      <td>43.0</td>\n",
       "      <td>518.0</td>\n",
       "      <td>187.0</td>\n",
       "    </tr>\n",
       "    <tr>\n",
       "      <th>min</th>\n",
       "      <td>2.0</td>\n",
       "      <td>1.0</td>\n",
       "      <td>9.0</td>\n",
       "      <td>0.0</td>\n",
       "      <td>0.0</td>\n",
       "      <td>91.0</td>\n",
       "      <td>0.0</td>\n",
       "      <td>0.0</td>\n",
       "    </tr>\n",
       "    <tr>\n",
       "      <th>25%</th>\n",
       "      <td>4.0</td>\n",
       "      <td>2.0</td>\n",
       "      <td>10.0</td>\n",
       "      <td>0.0</td>\n",
       "      <td>0.0</td>\n",
       "      <td>127.0</td>\n",
       "      <td>0.0</td>\n",
       "      <td>0.0</td>\n",
       "    </tr>\n",
       "    <tr>\n",
       "      <th>50%</th>\n",
       "      <td>8.0</td>\n",
       "      <td>2.0</td>\n",
       "      <td>11.0</td>\n",
       "      <td>0.0</td>\n",
       "      <td>0.0</td>\n",
       "      <td>141.0</td>\n",
       "      <td>0.0</td>\n",
       "      <td>256.0</td>\n",
       "    </tr>\n",
       "    <tr>\n",
       "      <th>75%</th>\n",
       "      <td>8.0</td>\n",
       "      <td>2.0</td>\n",
       "      <td>11.0</td>\n",
       "      <td>0.0</td>\n",
       "      <td>1.0</td>\n",
       "      <td>157.0</td>\n",
       "      <td>1000.0</td>\n",
       "      <td>256.0</td>\n",
       "    </tr>\n",
       "    <tr>\n",
       "      <th>max</th>\n",
       "      <td>64.0</td>\n",
       "      <td>5.0</td>\n",
       "      <td>13.0</td>\n",
       "      <td>1.0</td>\n",
       "      <td>1.0</td>\n",
       "      <td>352.0</td>\n",
       "      <td>2000.0</td>\n",
       "      <td>1024.0</td>\n",
       "    </tr>\n",
       "  </tbody>\n",
       "</table>\n",
       "</div>"
      ],
      "text/plain": [
       "          Ram  Weight   Price  TouchScreen     Ips     Ppi     HDD     SSD\n",
       "count  1272.0  1272.0  1272.0       1272.0  1272.0  1272.0  1272.0  1272.0\n",
       "mean      8.0     2.0    11.0          0.0     0.0   147.0   414.0   186.0\n",
       "std       5.0     1.0     1.0          0.0     0.0    43.0   518.0   187.0\n",
       "min       2.0     1.0     9.0          0.0     0.0    91.0     0.0     0.0\n",
       "25%       4.0     2.0    10.0          0.0     0.0   127.0     0.0     0.0\n",
       "50%       8.0     2.0    11.0          0.0     0.0   141.0     0.0   256.0\n",
       "75%       8.0     2.0    11.0          0.0     1.0   157.0  1000.0   256.0\n",
       "max      64.0     5.0    13.0          1.0     1.0   352.0  2000.0  1024.0"
      ]
     },
     "execution_count": 10,
     "metadata": {},
     "output_type": "execute_result"
    }
   ],
   "source": [
    "df.describe().round()"
   ]
  },
  {
   "cell_type": "code",
   "execution_count": 11,
   "id": "f0cb8464",
   "metadata": {},
   "outputs": [
    {
     "data": {
      "text/plain": [
       "Company        0\n",
       "TypeName       0\n",
       "Ram            0\n",
       "Weight         0\n",
       "Price          0\n",
       "TouchScreen    0\n",
       "Ips            0\n",
       "Ppi            0\n",
       "Cpu_brand      0\n",
       "HDD            0\n",
       "SSD            0\n",
       "Gpu_brand      0\n",
       "Os             0\n",
       "dtype: int64"
      ]
     },
     "execution_count": 11,
     "metadata": {},
     "output_type": "execute_result"
    }
   ],
   "source": [
    "df.isna().sum()"
   ]
  },
  {
   "cell_type": "code",
   "execution_count": 12,
   "id": "479e8e0a",
   "metadata": {},
   "outputs": [
    {
     "data": {
      "text/plain": [
       "<AxesSubplot:>"
      ]
     },
     "execution_count": 12,
     "metadata": {},
     "output_type": "execute_result"
    },
    {
     "data": {
      "image/png": "[encoded data removed]",
      "text/plain": [
       "<Figure size 432x288 with 2 Axes>"
      ]
     },
     "metadata": {
      "needs_background": "light"
     },
     "output_type": "display_data"
    }
   ],
   "source": [
    "sns.heatmap(df.isna())"
   ]
  },
  {
   "cell_type": "code",
   "execution_count": 13,
   "id": "d51164f3",
   "metadata": {},
   "outputs": [
    {
     "data": {
      "text/plain": [
       "Dell         291\n",
       "Lenovo       289\n",
       "HP           268\n",
       "Asus         151\n",
       "Acer         101\n",
       "MSI           54\n",
       "Toshiba       47\n",
       "Apple         21\n",
       "Samsung        8\n",
       "Razer          7\n",
       "Mediacom       7\n",
       "Microsoft      6\n",
       "Vero           4\n",
       "Xiaomi         4\n",
       "Google         3\n",
       "Fujitsu        3\n",
       "Chuwi          3\n",
       "LG             3\n",
       "Huawei         2\n",
       "Name: Company, dtype: int64"
      ]
     },
     "execution_count": 13,
     "metadata": {},
     "output_type": "execute_result"
    }
   ],
   "source": [
    "df['Company'].value_counts()"
   ]
  },
  {
   "cell_type": "code",
   "execution_count": 19,
   "id": "71119c50",
   "metadata": {},
   "outputs": [
    {
     "data": {
      "text/plain": [
       "<BarContainer object of 10 artists>"
      ]
     },
     "execution_count": 19,
     "metadata": {},
     "output_type": "execute_result"
    },
    {
     "data": {
      "image/png": "[encoded data removed]",
      "text/plain": [
       "<Figure size 1440x648 with 1 Axes>"
      ]
     },
     "metadata": {
      "needs_background": "light"
     },
     "output_type": "display_data"
    }
   ],
   "source": [
    "name=df['Company'].value_counts().index[:10]\n",
    "value=df['Company'].value_counts().values[:10]\n",
    "plt.figure(figsize=(20,9))\n",
    "plt.title('Company names')\n",
    "plt.bar(name,value)"
   ]
  },
  {
   "cell_type": "code",
   "execution_count": 20,
   "id": "915308b9",
   "metadata": {},
   "outputs": [
    {
     "data": {
      "text/plain": [
       "Notebook              705\n",
       "Gaming                205\n",
       "Ultrabook             194\n",
       "2 in 1 Convertible    116\n",
       "Workstation            29\n",
       "Netbook                23\n",
       "Name: TypeName, dtype: int64"
      ]
     },
     "execution_count": 20,
     "metadata": {},
     "output_type": "execute_result"
    }
   ],
   "source": [
    "df['TypeName'].value_counts()"
   ]
  },
  {
   "cell_type": "code",
   "execution_count": 23,
   "id": "f3f932d3",
   "metadata": {},
   "outputs": [
    {
     "data": {
      "text/plain": [
       "<AxesSubplot:xlabel='TypeName', ylabel='count'>"
      ]
     },
     "execution_count": 23,
     "metadata": {},
     "output_type": "execute_result"
    },
    {
     "data": {
      "image/png": "[encoded data removed]",
      "text/plain": [
       "<Figure size 1440x720 with 1 Axes>"
      ]
     },
     "metadata": {
      "needs_background": "light"
     },
     "output_type": "display_data"
    }
   ],
   "source": [
    "plt.figure(figsize=(20,10))\n",
    "sns.countplot(data=df,x='TypeName')"
   ]
  },
  {
   "cell_type": "code",
   "execution_count": 24,
   "id": "6c4d7318",
   "metadata": {},
   "outputs": [
    {
     "data": {
      "text/plain": [
       "8     613\n",
       "4     364\n",
       "16    198\n",
       "6      35\n",
       "12     25\n",
       "32     17\n",
       "2      16\n",
       "24      3\n",
       "64      1\n",
       "Name: Ram, dtype: int64"
      ]
     },
     "execution_count": 24,
     "metadata": {},
     "output_type": "execute_result"
    }
   ],
   "source": [
    "df['Ram'].value_counts()"
   ]
  },
  {
   "cell_type": "code",
   "execution_count": 25,
   "id": "c63b6a79",
   "metadata": {},
   "outputs": [
    {
     "data": {
      "text/plain": [
       "<AxesSubplot:xlabel='Ram'>"
      ]
     },
     "execution_count": 25,
     "metadata": {},
     "output_type": "execute_result"
    },
    {
     "data": {
      "image/png": "[encoded data removed]",
      "text/plain": [
       "<Figure size 432x288 with 1 Axes>"
      ]
     },
     "metadata": {
      "needs_background": "light"
     },
     "output_type": "display_data"
    }
   ],
   "source": [
    "sns.boxplot(data=df,x='Ram')"
   ]
  },
  {
   "cell_type": "code",
   "execution_count": 26,
   "id": "09882579",
   "metadata": {},
   "outputs": [
    {
     "data": {
      "text/plain": [
       "2.20    119\n",
       "2.10     58\n",
       "2.00     45\n",
       "2.40     42\n",
       "2.50     38\n",
       "       ... \n",
       "2.03      1\n",
       "2.54      1\n",
       "2.83      1\n",
       "1.14      1\n",
       "3.74      1\n",
       "Name: Weight, Length: 171, dtype: int64"
      ]
     },
     "execution_count": 26,
     "metadata": {},
     "output_type": "execute_result"
    }
   ],
   "source": [
    "df['Weight'].value_counts()"
   ]
  },
  {
   "cell_type": "code",
   "execution_count": 27,
   "id": "353af566",
   "metadata": {},
   "outputs": [
    {
     "name": "stderr",
     "output_type": "stream",
     "text": [
      "C:\\Users\\amr\\anaconda3\\lib\\site-packages\\seaborn\\distributions.py:2557: FutureWarning: `distplot` is a deprecated function and will be removed in a future version. Please adapt your code to use either `displot` (a figure-level function with similar flexibility) or `histplot` (an axes-level function for histograms).\n",
      "  warnings.warn(msg, FutureWarning)\n"
     ]
    },
    {
     "data": {
      "text/plain": [
       "<AxesSubplot:xlabel='Weight', ylabel='Density'>"
      ]
     },
     "execution_count": 27,
     "metadata": {},
     "output_type": "execute_result"
    },
    {
     "data": {
      "image/png": "[encoded data removed]",
      "text/plain": [
       "<Figure size 432x288 with 1 Axes>"
      ]
     },
     "metadata": {
      "needs_background": "light"
     },
     "output_type": "display_data"
    }
   ],
   "source": [
    "sns.distplot(df['Weight'])"
   ]
  },
  {
   "cell_type": "code",
   "execution_count": 28,
   "id": "3e290592",
   "metadata": {},
   "outputs": [
    {
     "data": {
      "text/plain": [
       "11.470547    14\n",
       "10.977717    14\n",
       "11.288115    12\n",
       "10.188167    11\n",
       "11.064804    11\n",
       "             ..\n",
       "10.676292     1\n",
       "11.801613     1\n",
       "10.903119     1\n",
       "11.775314     1\n",
       "11.526748     1\n",
       "Name: Price, Length: 791, dtype: int64"
      ]
     },
     "execution_count": 28,
     "metadata": {},
     "output_type": "execute_result"
    }
   ],
   "source": [
    "df['Price'].value_counts()"
   ]
  },
  {
   "cell_type": "code",
   "execution_count": 29,
   "id": "593571c8",
   "metadata": {},
   "outputs": [
    {
     "data": {
      "text/plain": [
       "<AxesSubplot:xlabel='Price', ylabel='Count'>"
      ]
     },
     "execution_count": 29,
     "metadata": {},
     "output_type": "execute_result"
    },
    {
     "data": {
      "image/png": "[encoded data removed]",
      "text/plain": [
       "<Figure size 432x288 with 1 Axes>"
      ]
     },
     "metadata": {
      "needs_background": "light"
     },
     "output_type": "display_data"
    }
   ],
   "source": [
    "sns.histplot(data=df,x='Price')"
   ]
  },
  {
   "cell_type": "code",
   "execution_count": 30,
   "id": "ba954524",
   "metadata": {},
   "outputs": [
    {
     "data": {
      "text/plain": [
       "0    1085\n",
       "1     187\n",
       "Name: TouchScreen, dtype: int64"
      ]
     },
     "execution_count": 30,
     "metadata": {},
     "output_type": "execute_result"
    }
   ],
   "source": [
    "df['TouchScreen'].value_counts()"
   ]
  },
  {
   "cell_type": "code",
   "execution_count": 32,
   "id": "1bb87cf7",
   "metadata": {},
   "outputs": [
    {
     "data": {
      "text/plain": [
       "<AxesSubplot:xlabel='TouchScreen', ylabel='count'>"
      ]
     },
     "execution_count": 32,
     "metadata": {},
     "output_type": "execute_result"
    },
    {
     "data": {
      "image/png": "[encoded data removed]",
      "text/plain": [
       "<Figure size 720x504 with 1 Axes>"
      ]
     },
     "metadata": {
      "needs_background": "light"
     },
     "output_type": "display_data"
    }
   ],
   "source": [
    "plt.figure(figsize=(10,7))\n",
    "sns.countplot(data=df,x='TouchScreen')"
   ]
  },
  {
   "cell_type": "code",
   "execution_count": 33,
   "id": "df94da64",
   "metadata": {},
   "outputs": [
    {
     "data": {
      "text/plain": [
       "0    916\n",
       "1    356\n",
       "Name: Ips, dtype: int64"
      ]
     },
     "execution_count": 33,
     "metadata": {},
     "output_type": "execute_result"
    }
   ],
   "source": [
    "df['Ips'].value_counts()"
   ]
  },
  {
   "cell_type": "code",
   "execution_count": 34,
   "id": "8c915829",
   "metadata": {},
   "outputs": [
    {
     "data": {
      "text/plain": [
       "<AxesSubplot:xlabel='Ips', ylabel='count'>"
      ]
     },
     "execution_count": 34,
     "metadata": {},
     "output_type": "execute_result"
    },
    {
     "data": {
      "image/png": "[encoded data removed]",
      "text/plain": [
       "<Figure size 432x288 with 1 Axes>"
      ]
     },
     "metadata": {
      "needs_background": "light"
     },
     "output_type": "display_data"
    }
   ],
   "source": [
    "sns.countplot(data=df,x='Ips',palette=[\"g\",\"r\"])"
   ]
  },
  {
   "cell_type": "code",
   "execution_count": 35,
   "id": "1d5f37d9",
   "metadata": {},
   "outputs": [
    {
     "data": {
      "text/plain": [
       "Intel Core i7            515\n",
       "Intel Core i5            422\n",
       "Other Intel Processor    141\n",
       "Intel Core i3            134\n",
       "AMD Processor             60\n",
       "Name: Cpu_brand, dtype: int64"
      ]
     },
     "execution_count": 35,
     "metadata": {},
     "output_type": "execute_result"
    }
   ],
   "source": [
    "df['Cpu_brand'].value_counts()"
   ]
  },
  {
   "cell_type": "code",
   "execution_count": 36,
   "id": "17ca0c53",
   "metadata": {},
   "outputs": [
    {
     "data": {
      "text/plain": [
       "<AxesSubplot:xlabel='Cpu_brand', ylabel='count'>"
      ]
     },
     "execution_count": 36,
     "metadata": {},
     "output_type": "execute_result"
    },
    {
     "data": {
      "image/png": "[encoded data removed]",
      "text/plain": [
       "<Figure size 1440x720 with 1 Axes>"
      ]
     },
     "metadata": {
      "needs_background": "light"
     },
     "output_type": "display_data"
    }
   ],
   "source": [
    "plt.figure(figsize=(20,10))\n",
    "sns.countplot(data=df,x='Cpu_brand')"
   ]
  },
  {
   "cell_type": "code",
   "execution_count": 37,
   "id": "2670f64c",
   "metadata": {},
   "outputs": [
    {
     "data": {
      "text/plain": [
       "Intel     702\n",
       "Nvidia    396\n",
       "AMD       174\n",
       "Name: Gpu_brand, dtype: int64"
      ]
     },
     "execution_count": 37,
     "metadata": {},
     "output_type": "execute_result"
    }
   ],
   "source": [
    "df['Gpu_brand'].value_counts()"
   ]
  },
  {
   "cell_type": "code",
   "execution_count": 42,
   "id": "46543e2b",
   "metadata": {},
   "outputs": [
    {
     "data": {
      "text/plain": [
       "<AxesSubplot:xlabel='Gpu_brand', ylabel='count'>"
      ]
     },
     "execution_count": 42,
     "metadata": {},
     "output_type": "execute_result"
    },
    {
     "data": {
      "image/png": "[encoded data removed]",
      "text/plain": [
       "<Figure size 720x504 with 1 Axes>"
      ]
     },
     "metadata": {
      "needs_background": "light"
     },
     "output_type": "display_data"
    }
   ],
   "source": [
    "plt.figure(figsize=(10,7))\n",
    "sns.countplot(data=df,x='Gpu_brand')"
   ]
  },
  {
   "cell_type": "code",
   "execution_count": 39,
   "id": "92c64f75",
   "metadata": {},
   "outputs": [
    {
     "data": {
      "text/plain": [
       "Windows    1099\n",
       "Others      152\n",
       "Mac          21\n",
       "Name: Os, dtype: int64"
      ]
     },
     "execution_count": 39,
     "metadata": {},
     "output_type": "execute_result"
    }
   ],
   "source": [
    "df['Os'].value_counts()"
   ]
  },
  {
   "cell_type": "code",
   "execution_count": 43,
   "id": "66ecfef1",
   "metadata": {},
   "outputs": [
    {
     "data": {
      "text/plain": [
       "<AxesSubplot:xlabel='Os', ylabel='count'>"
      ]
     },
     "execution_count": 43,
     "metadata": {},
     "output_type": "execute_result"
    },
    {
     "data": {
      "image/png": "[encoded data removed]",
      "text/plain": [
       "<Figure size 720x504 with 1 Axes>"
      ]
     },
     "metadata": {
      "needs_background": "light"
     },
     "output_type": "display_data"
    }
   ],
   "source": [
    "plt.figure(figsize=(10,7))\n",
    "sns.countplot(data=df,x='Os')"
   ]
  },
  {
   "cell_type": "code",
   "execution_count": 45,
   "id": "b721af26",
   "metadata": {},
   "outputs": [],
   "source": [
    "df.drop(['Company','TypeName','Cpu_brand','Gpu_brand','Os'],axis=1,inplace=True)"
   ]
  },
  {
   "cell_type": "code",
   "execution_count": 46,
   "id": "19759d8a",
   "metadata": {},
   "outputs": [
    {
     "data": {
      "text/plain": [
       "5"
      ]
     },
     "execution_count": 46,
     "metadata": {},
     "output_type": "execute_result"
    }
   ],
   "source": [
    "df.duplicated().sum()"
   ]
  },
  {
   "cell_type": "code",
   "execution_count": 47,
   "id": "41d797a2",
   "metadata": {},
   "outputs": [],
   "source": [
    "df.drop_duplicates(inplace=True)"
   ]
  },
  {
   "cell_type": "code",
   "execution_count": 49,
   "id": "6e56bf00",
   "metadata": {},
   "outputs": [],
   "source": [
    "df.reset_index(drop=True,inplace=True)"
   ]
  },
  {
   "cell_type": "code",
   "execution_count": 50,
   "id": "74078bb8",
   "metadata": {},
   "outputs": [
    {
     "data": {
      "image/png": "[encoded data removed]",
      "text/plain": [
       "<Figure size 1440x1152 with 9 Axes>"
      ]
     },
     "metadata": {
      "needs_background": "light"
     },
     "output_type": "display_data"
    }
   ],
   "source": [
    "df.hist(figsize=(20,16))\n",
    "plt.show()"
   ]
  },
  {
   "cell_type": "code",
   "execution_count": 51,
   "id": "d6013205",
   "metadata": {},
   "outputs": [],
   "source": [
    "cor=df.corr()"
   ]
  },
  {
   "cell_type": "code",
   "execution_count": 56,
   "id": "506ee4cc",
   "metadata": {},
   "outputs": [
    {
     "data": {
      "text/plain": [
       "<AxesSubplot:>"
      ]
     },
     "execution_count": 56,
     "metadata": {},
     "output_type": "execute_result"
    },
    {
     "data": {
      "image/png": "[encoded data removed]",
      "text/plain": [
       "<Figure size 648x288 with 2 Axes>"
      ]
     },
     "metadata": {
      "needs_background": "light"
     },
     "output_type": "display_data"
    }
   ],
   "source": [
    "plt.figure(figsize=(9,4))\n",
    "sns.heatmap(df.corr(),annot=True,fmt='.1f',linewidths=.5,cmap='jet')"
   ]
  },
  {
   "cell_type": "markdown",
   "id": "314aabab",
   "metadata": {},
   "source": [
    "# MODEL"
   ]
  },
  {
   "cell_type": "code",
   "execution_count": 57,
   "id": "805f3a42",
   "metadata": {},
   "outputs": [],
   "source": [
    "X=df.drop('Price',axis=1)\n",
    "y=df['Price']"
   ]
  },
  {
   "cell_type": "code",
   "execution_count": 58,
   "id": "8e5852e9",
   "metadata": {},
   "outputs": [
    {
     "data": {
      "text/html": [
       "<div>\n",
       "<style scoped>\n",
       "    .dataframe tbody tr th:only-of-type {\n",
       "        vertical-align: middle;\n",
       "    }\n",
       "\n",
       "    .dataframe tbody tr th {\n",
       "        vertical-align: top;\n",
       "    }\n",
       "\n",
       "    .dataframe thead th {\n",
       "        text-align: right;\n",
       "    }\n",
       "</style>\n",
       "<table border=\"1\" class=\"dataframe\">\n",
       "  <thead>\n",
       "    <tr style=\"text-align: right;\">\n",
       "      <th></th>\n",
       "      <th>Ram</th>\n",
       "      <th>Weight</th>\n",
       "      <th>TouchScreen</th>\n",
       "      <th>Ips</th>\n",
       "      <th>Ppi</th>\n",
       "      <th>HDD</th>\n",
       "      <th>SSD</th>\n",
       "    </tr>\n",
       "  </thead>\n",
       "  <tbody>\n",
       "    <tr>\n",
       "      <th>0</th>\n",
       "      <td>8</td>\n",
       "      <td>1.37</td>\n",
       "      <td>0</td>\n",
       "      <td>1</td>\n",
       "      <td>226.983005</td>\n",
       "      <td>0</td>\n",
       "      <td>128</td>\n",
       "    </tr>\n",
       "    <tr>\n",
       "      <th>1</th>\n",
       "      <td>8</td>\n",
       "      <td>1.34</td>\n",
       "      <td>0</td>\n",
       "      <td>0</td>\n",
       "      <td>127.677940</td>\n",
       "      <td>0</td>\n",
       "      <td>0</td>\n",
       "    </tr>\n",
       "    <tr>\n",
       "      <th>2</th>\n",
       "      <td>8</td>\n",
       "      <td>1.86</td>\n",
       "      <td>0</td>\n",
       "      <td>0</td>\n",
       "      <td>141.211998</td>\n",
       "      <td>0</td>\n",
       "      <td>256</td>\n",
       "    </tr>\n",
       "    <tr>\n",
       "      <th>3</th>\n",
       "      <td>16</td>\n",
       "      <td>1.83</td>\n",
       "      <td>0</td>\n",
       "      <td>1</td>\n",
       "      <td>220.534624</td>\n",
       "      <td>0</td>\n",
       "      <td>512</td>\n",
       "    </tr>\n",
       "    <tr>\n",
       "      <th>4</th>\n",
       "      <td>8</td>\n",
       "      <td>1.37</td>\n",
       "      <td>0</td>\n",
       "      <td>1</td>\n",
       "      <td>226.983005</td>\n",
       "      <td>0</td>\n",
       "      <td>256</td>\n",
       "    </tr>\n",
       "    <tr>\n",
       "      <th>...</th>\n",
       "      <td>...</td>\n",
       "      <td>...</td>\n",
       "      <td>...</td>\n",
       "      <td>...</td>\n",
       "      <td>...</td>\n",
       "      <td>...</td>\n",
       "      <td>...</td>\n",
       "    </tr>\n",
       "    <tr>\n",
       "      <th>1262</th>\n",
       "      <td>4</td>\n",
       "      <td>2.20</td>\n",
       "      <td>0</td>\n",
       "      <td>0</td>\n",
       "      <td>100.454670</td>\n",
       "      <td>500</td>\n",
       "      <td>0</td>\n",
       "    </tr>\n",
       "    <tr>\n",
       "      <th>1263</th>\n",
       "      <td>4</td>\n",
       "      <td>1.80</td>\n",
       "      <td>1</td>\n",
       "      <td>1</td>\n",
       "      <td>157.350512</td>\n",
       "      <td>0</td>\n",
       "      <td>128</td>\n",
       "    </tr>\n",
       "    <tr>\n",
       "      <th>1264</th>\n",
       "      <td>16</td>\n",
       "      <td>1.30</td>\n",
       "      <td>1</td>\n",
       "      <td>1</td>\n",
       "      <td>276.053530</td>\n",
       "      <td>0</td>\n",
       "      <td>512</td>\n",
       "    </tr>\n",
       "    <tr>\n",
       "      <th>1265</th>\n",
       "      <td>2</td>\n",
       "      <td>1.50</td>\n",
       "      <td>0</td>\n",
       "      <td>0</td>\n",
       "      <td>111.935204</td>\n",
       "      <td>0</td>\n",
       "      <td>0</td>\n",
       "    </tr>\n",
       "    <tr>\n",
       "      <th>1266</th>\n",
       "      <td>6</td>\n",
       "      <td>2.19</td>\n",
       "      <td>0</td>\n",
       "      <td>0</td>\n",
       "      <td>100.454670</td>\n",
       "      <td>1000</td>\n",
       "      <td>0</td>\n",
       "    </tr>\n",
       "  </tbody>\n",
       "</table>\n",
       "<p>1267 rows × 7 columns</p>\n",
       "</div>"
      ],
      "text/plain": [
       "      Ram  Weight  TouchScreen  Ips         Ppi   HDD  SSD\n",
       "0       8    1.37            0    1  226.983005     0  128\n",
       "1       8    1.34            0    0  127.677940     0    0\n",
       "2       8    1.86            0    0  141.211998     0  256\n",
       "3      16    1.83            0    1  220.534624     0  512\n",
       "4       8    1.37            0    1  226.983005     0  256\n",
       "...   ...     ...          ...  ...         ...   ...  ...\n",
       "1262    4    2.20            0    0  100.454670   500    0\n",
       "1263    4    1.80            1    1  157.350512     0  128\n",
       "1264   16    1.30            1    1  276.053530     0  512\n",
       "1265    2    1.50            0    0  111.935204     0    0\n",
       "1266    6    2.19            0    0  100.454670  1000    0\n",
       "\n",
       "[1267 rows x 7 columns]"
      ]
     },
     "execution_count": 58,
     "metadata": {},
     "output_type": "execute_result"
    }
   ],
   "source": [
    "X"
   ]
  },
  {
   "cell_type": "code",
   "execution_count": 59,
   "id": "60dd98a7",
   "metadata": {},
   "outputs": [
    {
     "data": {
      "text/plain": [
       "0       11.175755\n",
       "1       10.776777\n",
       "2       10.329931\n",
       "3       11.814476\n",
       "4       11.473101\n",
       "          ...    \n",
       "1262    10.555257\n",
       "1263    10.433899\n",
       "1264    11.288115\n",
       "1265     9.409283\n",
       "1266    10.614129\n",
       "Name: Price, Length: 1267, dtype: float64"
      ]
     },
     "execution_count": 59,
     "metadata": {},
     "output_type": "execute_result"
    }
   ],
   "source": [
    "y"
   ]
  },
  {
   "cell_type": "code",
   "execution_count": 60,
   "id": "5ed13779",
   "metadata": {},
   "outputs": [],
   "source": [
    "from sklearn.model_selection import train_test_split"
   ]
  },
  {
   "cell_type": "code",
   "execution_count": 61,
   "id": "fe0b6e78",
   "metadata": {},
   "outputs": [],
   "source": [
    " X_train, X_test, y_train, y_test = train_test_split(X, y, test_size=0.33, random_state=42)"
   ]
  },
  {
   "cell_type": "code",
   "execution_count": 62,
   "id": "b1e636ab",
   "metadata": {},
   "outputs": [
    {
     "data": {
      "text/plain": [
       "((848, 7), (419, 7), (848,), (419,))"
      ]
     },
     "execution_count": 62,
     "metadata": {},
     "output_type": "execute_result"
    }
   ],
   "source": [
    "X_train.shape, X_test.shape, y_train.shape, y_test.shape"
   ]
  },
  {
   "cell_type": "code",
   "execution_count": 63,
   "id": "c7aa666e",
   "metadata": {},
   "outputs": [],
   "source": [
    "from sklearn.tree import DecisionTreeRegressor"
   ]
  },
  {
   "cell_type": "code",
   "execution_count": 64,
   "id": "1aab4ac1",
   "metadata": {},
   "outputs": [],
   "source": [
    "model=DecisionTreeRegressor()"
   ]
  },
  {
   "cell_type": "code",
   "execution_count": 65,
   "id": "fc48c659",
   "metadata": {},
   "outputs": [
    {
     "data": {
      "text/plain": [
       "DecisionTreeRegressor()"
      ]
     },
     "execution_count": 65,
     "metadata": {},
     "output_type": "execute_result"
    }
   ],
   "source": [
    "model.fit(X_train,y_train)"
   ]
  },
  {
   "cell_type": "code",
   "execution_count": 69,
   "id": "3b47cbf1",
   "metadata": {},
   "outputs": [
    {
     "data": {
      "text/plain": [
       "array([10.64632735, 10.9398333 , 11.93727636,  9.99707767, 11.4423605 ,\n",
       "       11.06313473, 10.70029891, 11.71579055, 10.15922477, 11.23865235,\n",
       "       10.43349404, 10.95073031, 10.39392596, 10.31858531, 11.44121634,\n",
       "       10.53514517, 11.07145425, 10.22779213, 10.94064137,  9.31789528,\n",
       "       10.46628456, 11.6709506 , 10.53941655, 10.92157502, 10.60095339,\n",
       "       11.35269474, 12.13579352,  9.80450664, 10.91190376, 10.88519287,\n",
       "       10.1698673 , 10.87292049, 10.15970992, 11.10158261, 11.60061937,\n",
       "       12.25687997, 11.38985132, 11.04574649, 10.77684406, 10.81931098,\n",
       "       11.14414092, 11.42731943, 11.26533027, 10.78114989, 10.63753263,\n",
       "       11.26104409, 10.91675108, 10.18158979, 11.38985132, 12.25687997,\n",
       "       10.28575888, 10.20800904, 11.80161302, 11.93727636,  9.60677281,\n",
       "        9.80450664, 11.35269474, 10.8823158 , 11.219074  , 10.69098481,\n",
       "       10.84353544, 11.68892647, 10.22779213, 11.06313473, 10.22779213,\n",
       "       11.45711673, 11.219074  , 10.77684406, 10.50497986, 11.5608421 ,\n",
       "       10.08473632,  9.40928303, 11.04574649, 11.00994896, 11.15715297,\n",
       "       11.80161302, 10.73147473, 10.5108023 , 10.12901686, 11.42731943,\n",
       "       10.35398721, 11.51192496, 11.67131902, 11.83497418, 11.26104409,\n",
       "       10.99575173, 10.15346365, 11.0488415 , 11.14491104, 11.14491104,\n",
       "       11.83844306, 11.49796126, 11.52253514, 11.28811452, 10.99227583,\n",
       "       11.14491104, 10.96489629, 10.43546548, 12.58788256, 10.46499341,\n",
       "       11.01008111, 10.97771698, 10.35398721, 10.69098481, 11.41335615,\n",
       "       10.34185964, 11.23865235, 10.71962021, 11.04798293, 11.00476336,\n",
       "       10.90115622,  9.40928303, 10.90311893, 11.03985292, 10.65892197,\n",
       "       11.32092587, 11.09117333, 11.11601407, 11.219074  , 11.1545889 ,\n",
       "       10.86209267, 10.87225536, 10.86820267, 10.69098481,  9.75938621,\n",
       "       10.17803509, 10.21482147, 11.57035364, 10.78017555, 10.28575888,\n",
       "       10.70777173, 10.97771698, 11.08951714, 10.56854551, 10.96343445,\n",
       "       11.13969819,  9.99174754, 10.9398333 , 11.42731943, 10.98316164,\n",
       "       11.34010804,  9.53624266, 11.14491104, 11.0488415 , 11.35269474,\n",
       "       10.86209267, 10.45253339, 10.18158979,  9.9305252 , 10.66764477,\n",
       "       10.88519287, 11.17523937, 10.86820267,  9.6940679 , 10.99575173,\n",
       "       11.68892647, 10.53941655,  9.99254087, 11.31956179, 10.21237083,\n",
       "       10.3192657 , 10.69098481, 10.7266625 , 10.79884715, 10.9453517 ,\n",
       "       10.08258391, 11.00582593, 10.17803509, 10.15346365, 11.10158261,\n",
       "       11.09117333, 11.90383371,  9.40928303, 11.06229896, 10.69094441,\n",
       "        9.94400688, 11.26104409, 10.86209267, 10.73132995, 11.26104409,\n",
       "       10.58221121,  9.83063295, 11.51085773, 11.23320513, 10.37747822,\n",
       "       11.2719743 , 10.92157502, 11.219074  , 11.27424823,  9.57266438,\n",
       "       10.8414521 , 11.27007419, 11.51192496, 11.47054726,  9.99174754,\n",
       "       11.68979217, 12.05888964, 11.56134985, 10.5108023 , 11.4423605 ,\n",
       "       11.28209243, 11.10158261,  9.9305252 ,  9.93914037, 11.9815952 ,\n",
       "       10.35398721, 10.88519287, 10.8082193 ,  9.99254087,  9.97733114,\n",
       "       11.3273609 , 10.31061528, 10.08258391, 10.99575173, 10.31858531,\n",
       "       10.69098481, 11.93727636, 10.88519287, 10.45099374, 11.03985292,\n",
       "       10.82316946, 11.26533027,  9.99707767, 10.79884715, 11.19373786,\n",
       "        9.83063295, 10.62842406, 11.0581096 , 10.88519287, 11.22910218,\n",
       "       10.8823158 , 10.60095339, 12.47234741, 11.76455398, 10.15970992,\n",
       "       10.05090706, 10.70593078,  9.94937167, 11.58146983, 10.98316164,\n",
       "       10.5766145 , 10.82700242,  9.99707767, 10.39718329, 10.85594511,\n",
       "       10.57951255, 11.21262005, 10.82674595, 11.47054726, 11.20065143,\n",
       "       11.51299106,  9.31789528, 11.26533027, 11.18267988, 10.24654946,\n",
       "       10.37082262,  9.84260255,  9.85888341, 10.35398721, 11.49579558,\n",
       "       11.06480418, 10.36747814, 10.99227583, 11.70215296, 11.56134985,\n",
       "       10.96489629, 11.11633098, 11.47054726, 11.219074  , 11.50335501,\n",
       "       11.219074  , 10.21237083, 11.76667054, 10.68236224, 10.64632735,\n",
       "       11.51299106,  9.99174754, 11.9815952 ,  9.94400688, 11.72703634,\n",
       "       11.23320513, 11.28744719,  9.80450664, 11.2719743 ,  9.88121888,\n",
       "       10.62842406, 11.21262005, 10.40365014, 11.45711673, 10.22779213,\n",
       "       10.3017105 , 11.10158261, 12.00593479, 10.11520337, 10.3096319 ,\n",
       "       11.10158261,  9.97449759, 10.28575888, 11.47054726, 10.62084704,\n",
       "       11.34204513, 10.28575888, 10.53941655,  9.97733114, 11.35269474,\n",
       "       10.46499341, 10.08258391, 10.77684406, 11.42731943, 10.15922477,\n",
       "       10.97771698, 10.28575888, 10.31944146, 10.28000983, 10.22779213,\n",
       "       11.03985292, 10.95597217, 11.00476336, 10.37082262, 11.38985132,\n",
       "       10.90412426, 11.44224591, 10.15922477, 11.45711673, 10.63753263,\n",
       "       11.219074  , 10.45099374, 10.99575173,  9.99174754, 10.81931098,\n",
       "       11.13969819,  9.94937167, 11.0581096 , 10.69094441, 11.76667054,\n",
       "       11.14158157, 11.56134985, 10.99575173, 10.77238474, 11.56134985,\n",
       "       11.38510984, 10.87292049, 10.43687294, 10.95073031, 11.69602272,\n",
       "       10.82674595,  9.75938621, 11.60061937, 11.45429585,  9.55529085,\n",
       "       10.94436437, 10.69094441, 10.8082193 ,  9.88121888,  9.84260255,\n",
       "       11.77899608, 10.69098481, 10.37082262, 10.78114989, 10.15970992,\n",
       "       10.77684406,  9.93914037, 11.93343838, 11.47054726, 10.65264449,\n",
       "       10.86209267, 11.31119501, 11.3180195 , 10.85594511, 10.77238474,\n",
       "       10.94111137, 10.86209267, 11.34204513, 11.12075716, 10.36747814,\n",
       "       10.98189676,  9.99707767, 10.46628456, 11.14491104, 11.13474264,\n",
       "        9.9322661 , 11.0488415 , 10.62084704,  9.83063295,  9.99254087,\n",
       "       10.37082262, 11.0129576 , 10.36747814,  9.55529085, 10.52521177,\n",
       "       10.82700242,  9.9305252 ,  9.57266438, 11.10158261, 11.57035364,\n",
       "       11.83844306, 10.3368635 , 10.28575888, 10.37747822, 10.50497986,\n",
       "       10.15922477, 12.36241772,  9.88183697, 11.26721724, 11.50442491,\n",
       "       10.82700242, 11.26104409, 10.08702837, 11.47054726, 10.9398333 ,\n",
       "       10.56846856,  9.88183697, 10.41969228, 11.26517155, 10.79694076,\n",
       "       11.91293572,  9.99707767, 10.64632735, 10.38876461])"
      ]
     },
     "execution_count": 69,
     "metadata": {},
     "output_type": "execute_result"
    }
   ],
   "source": [
    "pre=model.predict(X_test)\n",
    "pre"
   ]
  },
  {
   "cell_type": "code",
   "execution_count": 70,
   "id": "fb3664cb",
   "metadata": {},
   "outputs": [
    {
     "data": {
      "text/plain": [
       "array([11.12390677, 10.93172544, 11.91257852, 10.23634635, 11.52464374,\n",
       "       11.71579055, 10.68364511, 11.4021101 , 10.50059068, 11.31340248,\n",
       "       10.77239592, 11.13017638, 10.86004768, 10.12616379, 11.44230332,\n",
       "       10.70777173, 11.1834209 , 10.24843803, 10.7543573 ,  9.13461633,\n",
       "       11.19739685, 11.54754948, 10.65766962, 11.94768216, 10.43548113,\n",
       "       11.11442803, 11.3582826 ,  9.63817422, 12.01471842, 11.19805405,\n",
       "       10.66763236, 11.01644762,  9.49301392, 11.38348535, 11.1231203 ,\n",
       "       10.72549222, 11.1722476 , 11.00464859, 10.97771698, 10.95284237,\n",
       "       11.21190037, 11.28811452, 11.25418997, 10.16792352, 10.65693   ,\n",
       "       10.82250417, 11.42184853, 10.58085895, 11.39554095, 11.9815952 ,\n",
       "       10.53808986,  9.83063295, 11.98617623, 12.03198779,  9.49301392,\n",
       "       10.8414521 , 10.80319026, 10.76565826, 10.71015269, 10.5108023 ,\n",
       "       10.56311104, 11.67131902, 10.62971355, 11.12939483, 10.3368635 ,\n",
       "       11.44293209, 11.29542596, 10.22746491, 10.2652766 , 10.56723476,\n",
       "       10.5344678 ,  9.26886585, 11.77899608, 10.8823158 , 11.18932933,\n",
       "       11.73730601, 10.59563423, 10.46019626, 10.11974666, 10.8832163 ,\n",
       "        9.91309723, 11.60066817, 11.2046749 , 11.49408681, 11.28878141,\n",
       "       10.18816712, 10.45253339, 10.93140146, 11.77899608, 11.04990644,\n",
       "       11.71579055, 11.62477735, 11.21190037, 11.52937188, 10.87225536,\n",
       "       11.21692731, 11.01609742, 10.37065567, 12.69144113, 10.3368635 ,\n",
       "       10.14726162, 11.14491104, 10.24843803, 10.8823158 , 11.4423605 ,\n",
       "       10.82674595, 11.52464374, 10.8823158 , 11.13407502, 10.77684406,\n",
       "       10.77350144,  9.26886585, 10.29091903, 10.58085895, 11.62048037,\n",
       "       11.47054726, 10.52521177, 11.26721724, 10.92541748, 10.68285114,\n",
       "       11.0167977 , 10.96857615, 11.43620667, 11.06480418,  9.60318214,\n",
       "       10.4036663 , 10.89180021, 11.76501559, 10.51801858, 10.50496527,\n",
       "       11.11838843, 11.06480418, 11.51841585, 10.55758617, 10.86004768,\n",
       "       11.20322352,  9.91309723, 11.03603739, 11.05978745, 11.06146249,\n",
       "       11.31444916, 10.39718329, 11.03087387, 11.05342188, 10.92733319,\n",
       "       11.08951714, 10.18816712, 10.10461124,  9.66929317, 10.77795579,\n",
       "       11.05878107, 10.12616379, 11.32864295,  9.47681924, 10.36747814,\n",
       "       11.52464374, 10.63357207,  9.92620358, 11.32092587, 10.25782777,\n",
       "       10.06006044, 11.27535839, 11.01872094, 11.39554095, 10.73249342,\n",
       "        9.51682457, 10.97771698, 10.14703195, 10.58491027, 10.32644674,\n",
       "       11.14875277, 11.60164378,  9.77465368, 11.14491104,  9.49261224,\n",
       "       10.4467784 , 11.29741074, 10.76565826, 10.72908062, 11.68486936,\n",
       "       11.00261819,  9.82776351, 11.71579055, 11.21118017, 10.969494  ,\n",
       "       11.18267988, 11.05474542, 11.41335615, 11.50335501,  9.58868913,\n",
       "       11.45033321, 11.0222083 , 11.03087387, 11.50871983, 10.12616379,\n",
       "       11.83458801, 11.86276961, 11.48489629, 10.55758617, 11.28811452,\n",
       "       11.42854336, 10.97315701,  9.9516581 ,  9.81620268, 11.94279268,\n",
       "       10.36915178, 11.27272655, 10.8823158 ,  9.91573228, 10.18816712,\n",
       "       11.1016483 , 10.18816712,  9.84767882, 10.65892197, 10.08258391,\n",
       "       10.64634002, 11.89782208, 10.86820267, 10.72067972, 11.52464374,\n",
       "       10.87124372, 11.40804483, 10.63485495, 11.0581096 , 11.06480418,\n",
       "        9.6760046 , 10.69819082, 11.00464859, 11.06480418, 10.93115363,\n",
       "       10.46019626, 10.49027372, 11.85371636, 11.52464374,  9.57027241,\n",
       "       11.03772695, 11.68486936,  9.75008152, 11.56792715, 10.75661865,\n",
       "       10.70060667, 10.83096982, 10.4805675 , 10.48134509, 10.97771698,\n",
       "       10.372324  , 11.06480418, 11.17149825, 11.41335615, 10.95935099,\n",
       "       11.46999124,  9.45202458, 11.19300446, 10.95935099, 10.06006044,\n",
       "       10.41969228, 10.16976231, 10.11893088, 10.16792352, 10.97771698,\n",
       "       11.3761816 , 10.37082262, 10.67135994, 11.4816032 , 11.28811452,\n",
       "       10.97771698, 11.28811452, 11.47829924, 11.84649062, 11.38348535,\n",
       "       10.8823158 ,  9.81620268, 11.18267988, 10.67629214, 11.03087387,\n",
       "       11.28811452,  9.6760046 , 11.14951935, 10.28365947, 11.25418997,\n",
       "       11.11283946, 11.31875437,  9.57027241, 11.39733682, 10.01343195,\n",
       "       10.69578118, 10.97589549, 10.3368635 , 11.23889064, 10.12189028,\n",
       "       10.00383955, 10.79010392, 12.16113419, 10.16792352, 10.22746491,\n",
       "       11.38711731, 10.23221277, 10.07116034, 11.14491104, 10.57814892,\n",
       "       11.27332931, 10.34990418, 10.71608039,  9.96452244, 10.80859276,\n",
       "       10.36843246,  9.55529085, 10.83096982, 11.219074  , 10.07138559,\n",
       "       10.83096982, 10.11759843, 11.35269474, 10.31944146, 10.18816712,\n",
       "       11.48708567, 11.06146249, 10.99308509, 10.43075959, 11.18267988,\n",
       "       11.28811452, 10.52521177, 10.59430001, 11.3774026 , 10.69939347,\n",
       "       11.08997269, 10.54514062, 10.46628456,  9.59196842, 11.03860919,\n",
       "       11.04798293,  9.69914613, 11.1552424 ,  9.85888341, 11.27468249,\n",
       "       11.1410545 , 11.28811452, 10.47534807, 10.35568356, 11.58888601,\n",
       "       11.44716313, 11.17598592, 11.00021006, 11.47054726, 11.47054726,\n",
       "       10.97315701,  9.63155284, 11.55062759, 11.219074  ,  9.66929317,\n",
       "       10.75434592,  9.47677842, 10.75434592,  9.6760046 ,  9.50641767,\n",
       "       11.79920696, 11.14491104, 10.52521177, 10.55342238,  9.25367569,\n",
       "       10.77684406,  9.91309723, 11.81447594, 11.2046749 , 10.58894524,\n",
       "       10.65892197, 11.11601407, 11.35269474, 10.4036663 , 11.69380198,\n",
       "       10.97771698, 10.71371352, 11.36820855, 11.13950771, 10.72157355,\n",
       "       10.87326597,  9.96702557, 10.55342238, 11.501201  , 11.18229434,\n",
       "        9.83063295, 10.89377146, 10.4036663 ,  9.6760046 ,  9.93398572,\n",
       "       10.43389931, 10.76790545, 10.70777173,  9.66253638, 10.46021153,\n",
       "       11.50281695, 10.05935404,  9.40928303, 10.64378927, 11.22477608,\n",
       "       11.77530205,  9.98927618,  9.67265451, 10.20800904, 10.50497986,\n",
       "       10.58085895, 11.77531434,  9.96449738, 11.50925474, 10.41969228,\n",
       "       10.89326664, 11.39793473, 10.37082262, 10.97771698, 11.23889064,\n",
       "       10.18816712, 10.19016912, 10.67506137, 11.17971032, 10.43546548,\n",
       "       12.24172546, 10.14305655, 10.78790612, 10.32993107])"
      ]
     },
     "execution_count": 70,
     "metadata": {},
     "output_type": "execute_result"
    }
   ],
   "source": [
    "y_test.values"
   ]
  },
  {
   "cell_type": "code",
   "execution_count": 77,
   "id": "e801e3aa",
   "metadata": {},
   "outputs": [],
   "source": [
    "from sklearn.metrics import rand_score"
   ]
  },
  {
   "cell_type": "code",
   "execution_count": 78,
   "id": "f16ad13b",
   "metadata": {},
   "outputs": [
    {
     "name": "stderr",
     "output_type": "stream",
     "text": [
      "C:\\Users\\amr\\anaconda3\\lib\\site-packages\\sklearn\\metrics\\cluster\\_supervised.py:58: UserWarning: Clustering metrics expects discrete values but received continuous values for label, and continuous values for target\n",
      "  warnings.warn(msg, UserWarning)\n"
     ]
    },
    {
     "data": {
      "text/plain": [
       "0.9944502175377693"
      ]
     },
     "execution_count": 78,
     "metadata": {},
     "output_type": "execute_result"
    }
   ],
   "source": [
    "rand_score(pre,y_test)"
   ]
  },
  {
   "cell_type": "code",
   "execution_count": null,
   "id": "8e573890",
   "metadata": {},
   "outputs": [],
   "source": []
  }
 ],
 "metadata": {
  "kernelspec": {
   "display_name": "Python 3",
   "language": "python",
   "name": "python3"
  },
  "language_info": {
   "codemirror_mode": {
    "name": "ipython",
    "version": 3
   },
   "file_extension": ".py",
   "mimetype": "text/x-python",
   "name": "python",
   "nbconvert_exporter": "python",
   "pygments_lexer": "ipython3",
   "version": "3.8.8"
  }
 },
 "nbformat": 4,
 "nbformat_minor": 5
}
